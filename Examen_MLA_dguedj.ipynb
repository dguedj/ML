{
  "nbformat": 4,
  "nbformat_minor": 0,
  "metadata": {
    "colab": {
      "provenance": []
    },
    "kernelspec": {
      "name": "python3",
      "display_name": "Python 3"
    },
    "language_info": {
      "name": "python"
    },
    "gpuClass": "standard"
  },
  "cells": [
    {
      "cell_type": "markdown",
      "source": [
        "# Machine Learning avancé\n",
        "\n",
        "# Examen pratique du 07/12/22\n",
        "\n",
        "Cet examen pratique se compose de trois exercices indépendants"
      ],
      "metadata": {
        "id": "-bMMYYW5RlwR"
      }
    },
    {
      "cell_type": "markdown",
      "source": [
        "## Exercice 1 : Deux algorithmes de réduction de dimension\n",
        "\n",
        "**Question 1**\n",
        "\n",
        "a) Charger dans $\\texttt{sklearn}$ le \"wine\" dataset.\n",
        "\n",
        "b) Quelle est la dimension canonique du nuage de points associé ?\n",
        "\n",
        "c) Représenter dans le plan la projection de ce dataset sur les deux premières coordonnées; puis sur les deux dernières."
      ],
      "metadata": {
        "id": "zq1GyvRd-y4U"
      }
    },
    {
      "cell_type": "markdown",
      "source": [],
      "metadata": {
        "id": "UY_U-ZSPo8k5"
      }
    },
    {
      "cell_type": "code",
      "source": [
        "import matplotlib.pyplot as plt\n",
        "import numpy as np\n",
        "\n",
        "\n"
      ],
      "metadata": {
        "id": "uZz15AGJ_46B"
      },
      "execution_count": null,
      "outputs": []
    },
    {
      "cell_type": "markdown",
      "source": [
        "**Question 2**\n",
        "\n",
        "a) Appliquer aux données l'analyse en composantes principales afin d'obtenir une représentation en dimension $p=2$\n",
        "\n",
        "b) Quel est le rôle du paramètre svd\\_solver ? Dans quel cas, convient-il de lui attribuer la valeur 'randomized' ?\n",
        "\n",
        "c) Représenter le nuage de points projeté dans les deux directions privilégiées.\n",
        "\n",
        "d) Afficher les vecteurs correspondants à ces deux directions principales identifiées par la méthode. Expliquer"
      ],
      "metadata": {
        "id": "1W1WObIl_5XP"
      }
    },
    {
      "cell_type": "markdown",
      "source": [],
      "metadata": {
        "id": "31eMhrxKpxaD"
      }
    },
    {
      "cell_type": "code",
      "source": [],
      "metadata": {
        "id": "grw3lrZpA6u9"
      },
      "execution_count": null,
      "outputs": []
    },
    {
      "cell_type": "markdown",
      "source": [
        "**Question 3**\n",
        "\n",
        "a) Appliquer aux données l'algorithme MDS afin d'obtenir une représentation en dimension $p=2$\n",
        "\n",
        "b) Représenter les données transformées dans le plan. Que remarquez-vous ?\n",
        "\n",
        "c) Appliquer aux données l'algorithme Isomap afin d'obtenir une représentation en dimension $p=1$\n",
        "\n",
        "d) Représenter adéquatement le nuage de points associé dans un espace dont on précisera la dimension.\n",
        "\n",
        "e) Que conclure des représentations précédentes ? (en terme de réductibilité de dimension)"
      ],
      "metadata": {
        "id": "0R4bTZEyBnr8"
      }
    },
    {
      "cell_type": "markdown",
      "source": [],
      "metadata": {
        "id": "9_utoRUeqw-Z"
      }
    },
    {
      "cell_type": "code",
      "source": [],
      "metadata": {
        "id": "jZ5JFsqSBz8s"
      },
      "execution_count": null,
      "outputs": []
    },
    {
      "cell_type": "code",
      "source": [],
      "metadata": {
        "id": "YAiQd0kaCgNp"
      },
      "execution_count": null,
      "outputs": []
    },
    {
      "cell_type": "markdown",
      "source": [
        "## Exercice 2 : Réseaux de neurones récurrents pour la prédiction\n",
        "\n",
        "L'objectif de cet exercice est de proposer un modèle simple de RNN pour un problème de prédiction de séries temporelles multi-pas de temps.\n",
        "\n",
        "Plus précisément, il s'agira *in fine* de construire un modèle qui à chaque temps $t$ puisse prédire\n",
        "$\n",
        "(x_{t+1}, x_{t+2}, x_{t+3},x_{t+4}) \\ \\mbox{a partir de } (x_s)_{0 \\leq s \\leq t}.\n",
        "$\n",
        "\n",
        "\n",
        "Afin d'entrainer et évaluer ce modèle, on commence par générer un **dataset synthétique** selon l'équation ci-dessous.\n",
        "\n",
        "$$\n",
        "\\forall t \\in \\mathbb{N}, \\ x_t= 0.5t + 0.2  \\sin \\left(100 f_1 (t-\\varphi_1) \\right) + 0.5 * \\sin \\left( 400 f_2 (t - \\varphi_2) \\right) + 0.1 c $$\n",
        "avec\n",
        "\n",
        "$$ f_1,f_2, \\varphi_1, \\varphi_2 \\sim \\mathcal{U} (\\left[0,1 \\right]) \\ \\mbox{et} \\ c \\sim \\mathcal{U} ([-1,1 ]).\n",
        "$$\n",
        "\n",
        "\n",
        "**Question 1**\n",
        "\n",
        "a) Générer un ensemble de 5000 trajectoires indépendantes $(x_t)_{0 \\leq t \\leq 203}$.\n",
        "\n",
        "Attention : ces trajectoires contiennent les valeurs à prédire pour le \"dernier pas de temps\" $t= 199$\n",
        "\n",
        "b) Représenter graphiquement un échantillon de cinq trajectoires indépendantes.\n",
        "\n",
        "\n"
      ],
      "metadata": {
        "id": "Z7FS_tj91I-Y"
      }
    },
    {
      "cell_type": "markdown",
      "source": [],
      "metadata": {
        "id": "enYY17EV4FL2"
      }
    },
    {
      "cell_type": "code",
      "source": [],
      "metadata": {
        "id": "I73Pgu9L4ZXq"
      },
      "execution_count": null,
      "outputs": []
    },
    {
      "cell_type": "markdown",
      "source": [
        "\n",
        "\n",
        "**Question 2**\n",
        "\n",
        "a) Proposer un modèle de prédiction le plus simple possible (pas de réseau de neurones à ce stade) pour le problème\n",
        "\n",
        "\n",
        "\n",
        "> Prédire $y=(x_{200}, x_{201}, x_{202}, x_{203})$ sachant $(x_t)_{0 \\leq t \\leq 199}$\n",
        "\n",
        "\n",
        "\n",
        "b) Evaluer l'erreur absolue moyenne associée à ce modèle de prédiction pour les données générées à la question 1.\n"
      ],
      "metadata": {
        "id": "OJEdASSA4cWe"
      }
    },
    {
      "cell_type": "markdown",
      "source": [],
      "metadata": {
        "id": "DKWVogDSuCZf"
      }
    },
    {
      "cell_type": "code",
      "source": [],
      "metadata": {
        "id": "zoX2Rxm-uC3x"
      },
      "execution_count": null,
      "outputs": []
    },
    {
      "cell_type": "markdown",
      "source": [
        "**Question 3:**\n",
        "\n",
        "a) Proposer un RNN incluant deux couches récurrentes simples, chacune composée de 20 neurones,  pour le même problème que précédemment :\n",
        "\n",
        "> Prédire $y=(x_{200}, x_{201}, x_{202}, x_{203})$ sachant $(x_t)_{0 \\leq t \\leq 199}$\n",
        "\n",
        "b) Constituer des échantillons d'entrainement et de validation à partir des trajectoires générées à la question 1 selon les proportions (0.8, 0.2)\n",
        "\n",
        "c) Représenter l'évolution de l'erreur quadratique moyenne pour les lots d'entrainement et de validation aucours des 20 premières époques"
      ],
      "metadata": {
        "id": "hiyVCa7_uppn"
      }
    },
    {
      "cell_type": "markdown",
      "source": [],
      "metadata": {
        "id": "BUd0F6t44DY8"
      }
    },
    {
      "cell_type": "code",
      "source": [],
      "metadata": {
        "id": "tfxspZhSuoji"
      },
      "execution_count": null,
      "outputs": []
    },
    {
      "cell_type": "markdown",
      "source": [
        "**Question 4:**\n",
        "\n",
        "a) Proposer un RNN incluant deux couches récurrentes simples, chacune composée de 20 neurones, pour le problème  :\n",
        "\n",
        "> Prédire $y_t=(x_{t+1}, x_{t+2}, x_{t+3}, x_{t+4})$ sachant $(x_s)_{0 \\leq s \\leq t}$ pour tout $0 \\leq t \\leq 199$\n",
        "\n",
        "- Quelle différence avec le problème précédent ?\n",
        "\n",
        "b) Constituer des échantillons d'entrainement et de validation à partir des trajectoires générées à la question 1 selon les proportions (0.8, 0.2).\n",
        "\n",
        "Attention : à des fins d'entrainement, une sortie (correspondant à la prédiction) doit être associée à chaque pas de temps.\n",
        "\n",
        "c) Représenter l'évolution de l'erreur quadratique moyenne pour les lots d'entrainement et de validation aucours des 20 premières époques"
      ],
      "metadata": {
        "id": "fZ-ZF8LT0oYo"
      }
    },
    {
      "cell_type": "markdown",
      "source": [],
      "metadata": {
        "id": "owE5SetB4BdR"
      }
    },
    {
      "cell_type": "code",
      "source": [],
      "metadata": {
        "id": "-QwX1o_w4Bws"
      },
      "execution_count": null,
      "outputs": []
    },
    {
      "cell_type": "markdown",
      "source": [
        "## Exercice 3 : Réduction de dimension et classification\n",
        "\n",
        "L'objectif de cet exercice est de discuter dans le cadre d'un problème simple la perte de précision résultant de l'application d'une technique de réduction de dimension préalablement à la résolution d'un problème de classification.\n",
        "\n",
        "**Question 1:**\n",
        "\n",
        "Le code suivant permet de charger le dataset cifar10.\n",
        "\n",
        "a) Afficher les dimensions des tenseurs train\\_ images  et test\\_images\n",
        "\n",
        "b) A quoi correspondent les premières et dernières coordonnées de ces tenseurs ?\n",
        "\n",
        "c) Convertir ces images **normalisées** au format grayscale. Quel impact sur la dimension des tenseurs concernés ?\n",
        "\n",
        "**A des fins de test, dans la suite de l'exercice, on n'incluera dans le lot d'entrainement uniquement 10000 images et 2000 dans le lot de test.**\n"
      ],
      "metadata": {
        "id": "RjS1OFCRR_Rj"
      }
    },
    {
      "cell_type": "markdown",
      "source": [],
      "metadata": {
        "id": "fO9uSzCg-XVQ"
      }
    },
    {
      "cell_type": "code",
      "execution_count": null,
      "metadata": {
        "id": "cN081K2YRjnx"
      },
      "outputs": [],
      "source": [
        "import time\n",
        "import matplotlib.pyplot as plt\n",
        "import tensorflow as tf\n",
        "from tf import datasets\n",
        "\n",
        "\n",
        "## Chargement du dataset\n",
        "\n",
        "(X_train, y_train), (X_test, y_test) = datasets.cifar10.load_data()\n",
        "\n",
        "\n",
        "....\n",
        "\n"
      ]
    },
    {
      "cell_type": "markdown",
      "source": [
        "**Question 2:**\n",
        "\n",
        "Afin d'établir un élément de référence, on commence par résoudre le problème de classification en ayant recours à un problème \"micro\"\n",
        "\n",
        "a) Proposer un réseau convolutif simple adapté au problème de classification des images de cifar10 (grayscale)\n",
        "\n",
        "b) Quelle est la dimension de la dernière \"représentation\" des données au sein du réseau ?\n",
        "\n",
        "c) Déterminer la fonction de perte appropriée pour ce type de problème.\n",
        "\n",
        "d) En vous aidant de $\\texttt{time}$ mesurer le temps nécessaire à l'entrainement d'un tel modèle pour un niveau de précision donnée."
      ],
      "metadata": {
        "id": "Ytg2yoR87bw8"
      }
    },
    {
      "cell_type": "markdown",
      "source": [],
      "metadata": {
        "id": "1800TDCa_q3i"
      }
    },
    {
      "cell_type": "code",
      "source": [
        "## Construction du modèle \"macro\"\n",
        "\n"
      ],
      "metadata": {
        "id": "6dUFEqjUjvtn"
      },
      "execution_count": null,
      "outputs": []
    },
    {
      "cell_type": "code",
      "source": [
        "## Entrainement du modèle \"macro\"\n",
        "loss_fn ="
      ],
      "metadata": {
        "id": "3sNloVfOzwhm"
      },
      "execution_count": null,
      "outputs": []
    },
    {
      "cell_type": "markdown",
      "source": [
        "**Question 3**\n",
        "\n",
        "On souhaite à présent comparer les résultats précédents avec les résultats obtenus via une approche différente. On applique dans un premier temps aux données d'entrainement un algorithme de réduction de dimension dans $\\texttt{sklearn}$.\n",
        "\n",
        "a) Transformer le tenseur X\\_train afin de pouvoir lui appliquer une méthode de type $\\texttt{fit}$ dans $\\texttt{sklearn.decomposition}$ ou $\\texttt{sklearn.manifold}$\n",
        "\n",
        "b) Appliquer aux données ainsi transformées un algorithme de plongement spectral afin d'obtenir un nouveau jeu de données dans un espace de dimension $p$. (la valeur de $p$ est à discuter). Mesurer le temps nécessaire à l'application de la méthode pour la valeur de $p$ retenue.\n",
        "\n",
        "c) Concevoir un réseau de neurones à propagation pour le problème de classification dont les inputs sont les plongements des images grayscale dans $\\mathbb{R}^p$ obtenus à la question précédente. Mesurer le temps nécessaire à l'entrainement du réseau.\n",
        "\n",
        "d) Estimer la performance de ce modèle dans le cadre du problème de classification."
      ],
      "metadata": {
        "id": "ZD2Uv-_09Be9"
      }
    },
    {
      "cell_type": "markdown",
      "source": [],
      "metadata": {
        "id": "Dw5OMoPW_tgc"
      }
    },
    {
      "cell_type": "code",
      "source": [
        "## Première transformation"
      ],
      "metadata": {
        "id": "4J6RpZPFmTVt"
      },
      "execution_count": null,
      "outputs": []
    },
    {
      "cell_type": "code",
      "source": [
        "## Seconde transformation\n"
      ],
      "metadata": {
        "id": "XLfB1MPn6786"
      },
      "execution_count": null,
      "outputs": []
    },
    {
      "cell_type": "code",
      "source": [
        "## Représentation graphique"
      ],
      "metadata": {
        "id": "CP7edxdtq870"
      },
      "execution_count": null,
      "outputs": []
    },
    {
      "cell_type": "code",
      "source": [
        "## Modèle \"réduit\""
      ],
      "metadata": {
        "id": "0kj3XYiC_7cR"
      },
      "execution_count": null,
      "outputs": []
    },
    {
      "cell_type": "code",
      "source": [
        "## Entrainement du modèle \"réduit\"\n",
        "\n"
      ],
      "metadata": {
        "id": "MLsXVWInxtxV"
      },
      "execution_count": null,
      "outputs": []
    }
  ]
}