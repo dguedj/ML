{
  "cells": [
    {
      "cell_type": "markdown",
      "metadata": {
        "id": "6D3RNJTLf_Af"
      },
      "source": [
        "# Modèles de régression\n",
        "\n",
        "Dans le cadre de ce TP, on s'intéressera à différents modèles de régression.\n",
        "\n",
        "## 1. Régression linéaire et variantes\n",
        "\n",
        "### 1.1 Régression linéaire simple\n",
        "\n",
        "On travaille dans $\\mathbb{R}^2$ : les positions des points du dataset appartiennent au plan.\n",
        "\n",
        "$\\textbf{Question 1}$ :\n",
        "\n",
        "a) Générer un dataset $(x^{(k)},y^{(k)})_{ 1 \\leq k \\leq N}$ tel que :\n",
        "\n",
        "-$x^{(k)} \\in \\mathbb{R}, y^{(k)} \\in \\mathbb{R}$ et $y^{(k)} = 2 x^{(k)} + \\varepsilon_k$ avec $\\varepsilon_k \\sim \\mathcal{N}(0,16)$\n",
        "\n",
        "b) On se place dans le cadre d'un modèle de régression linéaire standard $y= x \\beta + \\epsilon$\n",
        "\n",
        "Déterminer l'estimateur standard (moindres carrés) de la quantité $\\hat{\\beta}$ : dans un premier temps à l'aide de la seule librairie $\\texttt{numpy}$; dans un second en vous aidant de $\\texttt{sklearn}$.\n",
        "\n",
        "c) Représenter sur un même graphique, les points du dataset  et la droite d'équation $\\hat{y} = \\hat{\\beta} x$\n",
        "\n",
        "d) Estimer l'erreur $ \\left\\|y - \\hat{y} \\right\\|_2$\n"
      ]
    },
    {
      "cell_type": "code",
      "execution_count": null,
      "metadata": {
        "id": "IF3wKqvAf_An"
      },
      "outputs": [],
      "source": [
        "import numpy as np\n",
        "import sklearn\n",
        "import matplotlib.pyplot as plt\n",
        "\n",
        "from sklearn import linear_model\n",
        "\n"
      ]
    },
    {
      "cell_type": "markdown",
      "metadata": {
        "id": "MDXqCg1Cf_Ao"
      },
      "source": [
        "### 1.2 Régression linéaire standard\n",
        "\n",
        "$\\textbf{Question 2}$ :\n",
        "\n",
        "\n",
        "a) Générer un dataset $(x^{(k)},y^{(k)} )_{ 1 \\leq k \\leq N}$ tel que :\n",
        "\n",
        "-$x^{(k)} \\in \\mathbb{R}^2, y^{(k)} \\in \\mathbb{R}$ et $y^{(k)} = \\beta_1 x^{(k)}_1 + \\beta_2 x^{(k)}_2 + \\varepsilon_k$ avec $\\varepsilon_k \\sim \\mathcal{N}(0,16)$\n",
        "\n",
        "b) On se place dans le cadre d'un modèle de régression linéaire standard $y=  x \\beta + \\epsilon$\n",
        "\n",
        "Déterminer l'estimateur standard (moindres carrés) de la quantité $\\hat{\\beta}$ : dans un premier temps à l'aide de la seule librairie $\\texttt{numpy}$; dans un second en vous aidant de $\\texttt{sklearn}$.\n",
        "\n",
        "c) Représenter sur un même graphique, les points du dataset  et les points dont les coordonnées satisfont à  $\\hat{y} = x\\hat{\\beta}$\n",
        "\n",
        "d) Estimer l'erreur $ \\left\\|y - \\hat{y} \\right\\|_2$"
      ]
    },
    {
      "cell_type": "code",
      "execution_count": null,
      "metadata": {
        "id": "eD3zkrhZf_Ap"
      },
      "outputs": [],
      "source": [
        "\n"
      ]
    },
    {
      "cell_type": "markdown",
      "metadata": {
        "id": "_NU2YvETf_Ap"
      },
      "source": [
        "### 1.3 Régression linéaire régularisée\n",
        "\n",
        "$\\textbf{Question 3}$ :\n",
        "\n",
        "a) Pour le même dataset, reprendre la démarche de la question 2, en utilisant cette fois un modèle de régression ridge\n",
        "\n",
        "b) Comparer les coefficients estimés et erreurs pour différentes valeurs du paramètre de régularisation $\\alpha$.\n",
        "\n",
        "c) Si l'on utilise la classe $\\texttt{ElasticNetCV}$ pour résoudre ce problème, quelles valeurs de $\\alpha$ et $\\rho$ sont automatiquement sélectionnées ? Commentaires ?"
      ]
    },
    {
      "cell_type": "code",
      "execution_count": null,
      "metadata": {
        "id": "O-pasSdhf_Aq"
      },
      "outputs": [],
      "source": [
        "from sklearn.linear_model import ElasticNet\n",
        "\n"
      ]
    },
    {
      "cell_type": "code",
      "execution_count": null,
      "metadata": {
        "id": "ZLugWkjAf_Ar"
      },
      "outputs": [],
      "source": [
        "f\n"
      ]
    },
    {
      "cell_type": "markdown",
      "metadata": {
        "id": "_Qjxyyvgf_As"
      },
      "source": [
        "## 2. Application des modèles linéaires\n",
        "\n",
        "$\\textbf{Question 4}$ :\n",
        "\n",
        "a) Charger le dataset \"diabetes\" à partir de scikit-learn; isoler 20% des échantillons à des fins de test.\n",
        "\n",
        "b) Expliquer pourquoi ce dataset peut être canoniquement associé à un problème de régression.\n",
        "\n",
        "c) Entrainer et tester un modèle de régression linéaire simple pour le problème de régression associé à la prédiction de $y$ à partir de l'*ensemble* des coordonnées de $x$.\n",
        "\n",
        "d) Estimer dans ce cadre l'erreur quadratique moyenne\n",
        "\n",
        "e) Représenter dans le plan $(x_3, y)$ les échantillons de test ainsi que leurs estimations."
      ]
    },
    {
      "cell_type": "code",
      "execution_count": null,
      "metadata": {
        "id": "2buEgm_1f_At"
      },
      "outputs": [],
      "source": [
        "from sklearn import datasets\n",
        "from sklearn.model_selection import train_test_split\n",
        "\n"
      ]
    },
    {
      "cell_type": "markdown",
      "metadata": {
        "id": "xfez-DDFf_At"
      },
      "source": [
        "## 3. Régression bayésienne\n",
        "\n",
        "\n",
        "$\\textbf{Question 5}$ :\n",
        "\n",
        "a) Générer un dataset ${(x_k,y_k)}_{ 1 \\leq k \\leq 500}$ tel que :\n",
        "\n",
        "-$x_k \\in \\mathbb{R}^{50}, y_k \\in \\mathbb{R}$ et $\\displaystyle{y_k = \\sum_{i=1}^{50} \\beta_i x_{ik}  + \\varepsilon_k }$ avec $\\beta \\sim \\mathcal{N}(0,4 \\times \\mathbb{I}_{50})$ et $\\varepsilon_k \\sim \\mathcal{N}(0,50)$\n",
        "\n",
        "Les coefficients exacts (à estimer par la suite) sont donc dans un premier temps tirés au sort.\n",
        "\n",
        "b) Séparer des échantillons d'entrainement et de test.\n",
        "\n",
        "c) On se place dans le cadre d'un modèle de régression linéaire  bayésien \"ridge\" $y=  x \\beta + \\epsilon$\n",
        "\n",
        "Déterminer l'estimateur bayésien du vecteur $\\tilde{\\beta}$ à l'aide de $\\texttt{sklearn}$. Comment est construit cet estimateur ?\n",
        "\n",
        "d) Comparer graphiquement l'estimateur $\\tilde{\\beta}$ au vecteur des poids exacts; ainsi qu'au poids obtenus via les moindres et carrés et un modèle de régression \"ridge\".\n",
        "\n",
        "e) Représenter la distribution de probabilité des poids estimés.\n",
        "\n",
        "f) Représenter la prédiction pour les échantillons de test (inclure l'intervalle de confiance à cette représentation)\n",
        "\n"
      ]
    },
    {
      "cell_type": "code",
      "execution_count": null,
      "metadata": {
        "id": "O83--fo9f_Au"
      },
      "outputs": [],
      "source": [
        "from sklearn.linear_model import BayesianRidge\n",
        "\n"
      ]
    },
    {
      "cell_type": "code",
      "execution_count": null,
      "metadata": {
        "id": "_740w7Bcf_Av"
      },
      "outputs": [],
      "source": []
    }
  ],
  "metadata": {
    "kernelspec": {
      "display_name": "Python 3",
      "language": "python",
      "name": "python3"
    },
    "language_info": {
      "codemirror_mode": {
        "name": "ipython",
        "version": 3
      },
      "file_extension": ".py",
      "mimetype": "text/x-python",
      "name": "python",
      "nbconvert_exporter": "python",
      "pygments_lexer": "ipython3",
      "version": "3.8.5"
    },
    "colab": {
      "provenance": []
    }
  },
  "nbformat": 4,
  "nbformat_minor": 0
}