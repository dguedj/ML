{
  "cells": [
    {
      "cell_type": "markdown",
      "metadata": {
        "id": "rKYvvJoX7Au0"
      },
      "source": [
        "# Classification bayésienne naïve\n",
        "\n",
        "Dans le cadre de ce TP, on va générer et charger des jeux de données classiques dans le cadre d'une découverte des outils de classification automatique. Ces derniers serviront de cas tests pour l'utilisation des routines de classification bayésienne naïve implémentées dans scikit-learn.\n",
        "\n",
        "## 1. Jeux de données élémentaires\n",
        "\n",
        "### 1.1 Classification gaussienne\n",
        "\n",
        "On travaille dans $\\mathbb{R}^2$ : les positions des points du dataset appartiennent au plan.\n",
        "\n",
        "$\\textbf{Question 1}$ :\n",
        "\n",
        "a) Générer un dataset constitué de $500$ couples $(x^{(k)},y^{(k)})$ avec $y_k \\in \\left[ 1,3 \\right]$ tel que les points de chaque classe soient générés à partir de vecteurs gaussiens indépendants de moyennes (centres) distinctes.\n",
        "\n",
        "->https://scikit-learn.org/stable/datasets/sample_generators.html#sample-generators\n",
        "\n",
        "La fonction utilisée dépend d'un paramètre *cluster_std* que l'on fixera *égal à 1.0* pour le moment.\n",
        "\n",
        "b) Quel est le modèle probabiliste de données sous-jacent ?\n",
        "\n",
        "c) Fournir une représentation graphique des données ainsi générées."
      ]
    },
    {
      "cell_type": "code",
      "source": [],
      "metadata": {
        "id": "iVPr5oakqtKI"
      },
      "execution_count": null,
      "outputs": []
    },
    {
      "cell_type": "markdown",
      "metadata": {
        "id": "8l9Qeqc07AvC"
      },
      "source": [
        "$\\textbf{Question 2}$ :\n",
        "\n",
        "a) A l'aide du jeu de données créé à la question précédente, produire deux lots de données destinés à l'entrainement et au test de votre modèle de classification (prévoir 20% des données pour la phase de test)\n",
        "\n",
        "->https://scikit-learn.org/stable/modules/generated/sklearn.model_selection.train_test_split.html?highlight=train_test_split#sklearn.model_selection.train_test_split\n",
        "\n",
        "b) Construire à l'aide de scikit-learn un modèle de classificateur bayésien gaussien et l'appliquer au lot de données de test.\n",
        "\n",
        "c) Quel est le taux d'erreur ? Représenter sur une même figure les données étiquetées d'entrainement et de test."
      ]
    },
    {
      "cell_type": "code",
      "source": [],
      "metadata": {
        "id": "lJ1r5dLLq02g"
      },
      "execution_count": null,
      "outputs": []
    },
    {
      "cell_type": "markdown",
      "metadata": {
        "id": "_zWaY40G7AvE"
      },
      "source": [
        "$\\textbf{Question 3}$ :\n",
        "\n",
        "a) Générer et visualiser deux nouveaux datasets en suivant la même procédure que dans le cadre de la question 1 mais en modifiant le paramètre cluster_std $= \\{0.1, 4.0 \\}$\n",
        "\n",
        "b) Mesurer les taux d'erreur sur les échantillons de test pour la méthode de classification bayésienne gaussienne. Les résultats étaient-ils attendus ? Commenter."
      ]
    },
    {
      "cell_type": "code",
      "source": [],
      "metadata": {
        "id": "4gRXdTEoq2Au"
      },
      "execution_count": null,
      "outputs": []
    },
    {
      "cell_type": "markdown",
      "metadata": {
        "id": "1wEnMX627AvG"
      },
      "source": [
        "$\\textbf{Question 4}$ :\n",
        "\n",
        "a) Générer et visualiser deux nouveaux datasets en suivant la même procédure que dans le cadre de la question 1 mais en modifiant le paramètre n_features $= \\{10, 100 \\}$ à nombre d'échantillon et variance constants\n",
        "\n",
        "b) Mesurer dans chaque cas les taux d'erreur sur les échantillons de test pour la méthode de classification bayésienne gaussienne. Les résultats étaient-ils attendus ? Commenter."
      ]
    },
    {
      "cell_type": "code",
      "source": [],
      "metadata": {
        "id": "UCiDBvZXq2wH"
      },
      "execution_count": null,
      "outputs": []
    },
    {
      "cell_type": "markdown",
      "metadata": {
        "id": "Zl1QkSmv7AvI"
      },
      "source": [
        "### 1.2 Classification multinomiale\n",
        "\n",
        "Dans cette section, on applique un modèle de classificateur bayésien multinomial à un nouveau jeu de données, simple et adapté à ce type de modèle.\n",
        "\n",
        "$\\textbf{Question 5}$ :\n",
        "\n",
        "a) Pourquoi les réalisations d'un vecteur aléatoire distribué selon une loi de Dirichlet peuvent-ils servir de paramètres à une loi multinomiale ?\n",
        "\n",
        "b) Générer \"à la main\" un jeu de données constitué des 3*100 réalisations de 3 types de lois multinomiales (50 épreuves avec 4 issues possibles) dont les paramètres sont tirés selon une loi de Dirichlet.\n",
        "\n",
        "c) Quelles sont les différences principales entre ce jeu de données et celui étudié à la question précédente ?"
      ]
    },
    {
      "cell_type": "code",
      "source": [],
      "metadata": {
        "id": "k30uXcPyq3rX"
      },
      "execution_count": null,
      "outputs": []
    },
    {
      "cell_type": "markdown",
      "metadata": {
        "id": "KRe3RGov7AvK"
      },
      "source": [
        "$\\textbf{Question 6}$ :\n",
        "\n",
        "a) A l'aide du jeu de données créé à la question précédente, produire deux lots de données destinés à l'entrainement et au test de votre modèle de classification.\n",
        "\n",
        "b) Construire à l'aide de scikit-learn un modèle de $\\textbf{classificateur bayésien multinomial}$ et l'appliquer au lot de données de test.\n",
        "\n",
        "c) Quel est le taux d'erreur ? Représenter sur une même figure les données étiquetées d'entrainement et de test."
      ]
    },
    {
      "cell_type": "code",
      "source": [],
      "metadata": {
        "id": "JKtyKIoKq4Uz"
      },
      "execution_count": null,
      "outputs": []
    },
    {
      "cell_type": "markdown",
      "metadata": {
        "id": "aa_I2Wi17AvM"
      },
      "source": [
        "## 2. Jeux de données tests\n",
        "\n",
        "### 2.1 Classification sur l'Iris dataset\n",
        "\n",
        "L'objectif de cette section est la mise en oeuvre du modèle de classification bayésienne sur le classique \"iris dataset\".\n",
        "\n",
        "$\\textbf{Question 7}$ :\n",
        "\n",
        "a) A l'aide de scikit-learn, charger l'iris data set dans l'environnement de travail.\n",
        "\n",
        "b) Quelle est la dimension de ce jeu de données ? Combien de classes d'iris figurent dans les données ?\n",
        "\n",
        "c) Toutes les représentations dans le plan sont-elles équivalentes du point de vue de la classification ?"
      ]
    },
    {
      "cell_type": "code",
      "execution_count": null,
      "metadata": {
        "id": "WABtHEP87AvN"
      },
      "outputs": [],
      "source": []
    },
    {
      "cell_type": "markdown",
      "metadata": {
        "id": "mOi7Gbby7AvO"
      },
      "source": [
        "$\\textbf{Question 8}$ :\n",
        "\n",
        "a) Produire deux lots de données destinés à l'entrainement et au test de votre modèle de classification.\n",
        "\n",
        "b) Quel type de classificateur bayésien naïf faut-il utiliser dans cette situation ?\n",
        "\n",
        "c) Construire à l'aide de scikit-learn un modèle de $\\textbf{classificateur bayésien}$ et l'appliquer au lot de données de test.\n",
        "\n",
        "d) Quel est le taux d'erreur ?"
      ]
    },
    {
      "cell_type": "code",
      "execution_count": null,
      "metadata": {
        "id": "gGhsSMwf7AvO"
      },
      "outputs": [],
      "source": [
        "\n"
      ]
    },
    {
      "cell_type": "markdown",
      "metadata": {
        "id": "EsRwI_wT7AvP"
      },
      "source": [
        "### 2.2 Classification sur le \"news data set\"\n",
        "\n",
        "$\\textbf{Question 9}$ :\n",
        "\n",
        "a) A l'aide de scikit-learn, charger le \"news data set\". Quelles sont les dimensions du jeu de données ?\n",
        "\n",
        "Utiliser à cet effet la fonction fetch_20newsgroups_vectorized\n",
        "\n",
        "b) Quelle structure particulière possède les représentations vectorielles $\\texttt{X}$ ?\n",
        "\n",
        "b) Extraire du jeu de données complet, un sous-jeu de données ne contenant que 5000 données étiquetées."
      ]
    },
    {
      "cell_type": "code",
      "execution_count": null,
      "metadata": {
        "id": "ar4DQkxW7AvQ"
      },
      "outputs": [],
      "source": []
    },
    {
      "cell_type": "markdown",
      "metadata": {
        "id": "eHnrsWlF7AvQ"
      },
      "source": [
        "$\\textbf{Question 10}$ :\n",
        "\n",
        "a) Produire deux lots de données destinés à l'entrainement et au test de votre modèle de classification (vous pouvez utiliser l'argument subset)\n",
        "\n",
        "b) A l'aide de la fonction $\\texttt{TruncatedSVD}$, représenter la projection en 2D du jeu de données d'entrainement\n",
        "\n",
        "c) Construire à l'aide de scikit-learn un modèle de $\\textbf{classificateur bayésien}$ et l'appliquer au lot de données de test.\n",
        "\n",
        "d) Quels sont les taux d'erreur, précision et F1 score ?"
      ]
    },
    {
      "cell_type": "code",
      "execution_count": null,
      "metadata": {
        "id": "pK6sr98g7AvR"
      },
      "outputs": [],
      "source": []
    },
    {
      "cell_type": "code",
      "execution_count": null,
      "metadata": {
        "id": "1tXysoVg7AvS"
      },
      "outputs": [],
      "source": []
    }
  ],
  "metadata": {
    "colab": {
      "provenance": []
    },
    "kernelspec": {
      "display_name": "Python 3",
      "language": "python",
      "name": "python3"
    },
    "language_info": {
      "codemirror_mode": {
        "name": "ipython",
        "version": 3
      },
      "file_extension": ".py",
      "mimetype": "text/x-python",
      "name": "python",
      "nbconvert_exporter": "python",
      "pygments_lexer": "ipython3",
      "version": "3.8.5"
    }
  },
  "nbformat": 4,
  "nbformat_minor": 0
}